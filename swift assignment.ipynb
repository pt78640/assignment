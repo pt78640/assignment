{
 "cells": [
  {
   "cell_type": "code",
   "execution_count": 1,
   "id": "6c07fbfa",
   "metadata": {},
   "outputs": [],
   "source": [
    "import pandas as pd"
   ]
  },
  {
   "cell_type": "code",
   "execution_count": 65,
   "id": "b7b3c991",
   "metadata": {},
   "outputs": [],
   "source": [
    "sales_data = pd.read_csv('Sales_Data.csv')\n",
    "glance_view = pd.read_csv(\"Glance_Views.csv\")"
   ]
  },
  {
   "cell_type": "code",
   "execution_count": 66,
   "id": "ed71f899",
   "metadata": {},
   "outputs": [
    {
     "data": {
      "text/html": [
       "<div>\n",
       "<style scoped>\n",
       "    .dataframe tbody tr th:only-of-type {\n",
       "        vertical-align: middle;\n",
       "    }\n",
       "\n",
       "    .dataframe tbody tr th {\n",
       "        vertical-align: top;\n",
       "    }\n",
       "\n",
       "    .dataframe thead th {\n",
       "        text-align: right;\n",
       "    }\n",
       "</style>\n",
       "<table border=\"1\" class=\"dataframe\">\n",
       "  <thead>\n",
       "    <tr style=\"text-align: right;\">\n",
       "      <th></th>\n",
       "      <th>Unnamed: 0</th>\n",
       "      <th>SKU_NAME</th>\n",
       "      <th>FEED_DATE</th>\n",
       "      <th>CATEGORY</th>\n",
       "      <th>SUB_CATEGORY</th>\n",
       "      <th>ORDERED_REVENUE</th>\n",
       "      <th>ORDERED_UNITS</th>\n",
       "      <th>REP_OOS</th>\n",
       "    </tr>\n",
       "  </thead>\n",
       "  <tbody>\n",
       "    <tr>\n",
       "      <th>0</th>\n",
       "      <td>0</td>\n",
       "      <td>B12020KBUI</td>\n",
       "      <td>2019-05-18</td>\n",
       "      <td>1000 Inputs</td>\n",
       "      <td>1002 Mice</td>\n",
       "      <td>0.0</td>\n",
       "      <td>0.0</td>\n",
       "      <td>0.0</td>\n",
       "    </tr>\n",
       "    <tr>\n",
       "      <th>1</th>\n",
       "      <td>1</td>\n",
       "      <td>B12020KBUI</td>\n",
       "      <td>2019-05-19</td>\n",
       "      <td>1000 Inputs</td>\n",
       "      <td>1002 Mice</td>\n",
       "      <td>0.0</td>\n",
       "      <td>0.0</td>\n",
       "      <td>0.0</td>\n",
       "    </tr>\n",
       "    <tr>\n",
       "      <th>2</th>\n",
       "      <td>2</td>\n",
       "      <td>B12020KBUI</td>\n",
       "      <td>2019-05-22</td>\n",
       "      <td>1000 Inputs</td>\n",
       "      <td>1002 Mice</td>\n",
       "      <td>0.0</td>\n",
       "      <td>0.0</td>\n",
       "      <td>0.0</td>\n",
       "    </tr>\n",
       "    <tr>\n",
       "      <th>3</th>\n",
       "      <td>3</td>\n",
       "      <td>B12020KBUI</td>\n",
       "      <td>2019-05-23</td>\n",
       "      <td>1000 Inputs</td>\n",
       "      <td>1002 Mice</td>\n",
       "      <td>0.0</td>\n",
       "      <td>0.0</td>\n",
       "      <td>0.0</td>\n",
       "    </tr>\n",
       "    <tr>\n",
       "      <th>4</th>\n",
       "      <td>4</td>\n",
       "      <td>B12020KBUI</td>\n",
       "      <td>2019-05-27</td>\n",
       "      <td>1000 Inputs</td>\n",
       "      <td>1002 Mice</td>\n",
       "      <td>0.0</td>\n",
       "      <td>0.0</td>\n",
       "      <td>0.0</td>\n",
       "    </tr>\n",
       "  </tbody>\n",
       "</table>\n",
       "</div>"
      ],
      "text/plain": [
       "   Unnamed: 0    SKU_NAME   FEED_DATE     CATEGORY SUB_CATEGORY  \\\n",
       "0           0  B12020KBUI  2019-05-18  1000 Inputs    1002 Mice   \n",
       "1           1  B12020KBUI  2019-05-19  1000 Inputs    1002 Mice   \n",
       "2           2  B12020KBUI  2019-05-22  1000 Inputs    1002 Mice   \n",
       "3           3  B12020KBUI  2019-05-23  1000 Inputs    1002 Mice   \n",
       "4           4  B12020KBUI  2019-05-27  1000 Inputs    1002 Mice   \n",
       "\n",
       "   ORDERED_REVENUE  ORDERED_UNITS  REP_OOS  \n",
       "0              0.0            0.0      0.0  \n",
       "1              0.0            0.0      0.0  \n",
       "2              0.0            0.0      0.0  \n",
       "3              0.0            0.0      0.0  \n",
       "4              0.0            0.0      0.0  "
      ]
     },
     "execution_count": 66,
     "metadata": {},
     "output_type": "execute_result"
    }
   ],
   "source": [
    "sales_data.head()"
   ]
  },
  {
   "cell_type": "code",
   "execution_count": 67,
   "id": "558cbf86",
   "metadata": {},
   "outputs": [
    {
     "data": {
      "text/html": [
       "<div>\n",
       "<style scoped>\n",
       "    .dataframe tbody tr th:only-of-type {\n",
       "        vertical-align: middle;\n",
       "    }\n",
       "\n",
       "    .dataframe tbody tr th {\n",
       "        vertical-align: top;\n",
       "    }\n",
       "\n",
       "    .dataframe thead th {\n",
       "        text-align: right;\n",
       "    }\n",
       "</style>\n",
       "<table border=\"1\" class=\"dataframe\">\n",
       "  <thead>\n",
       "    <tr style=\"text-align: right;\">\n",
       "      <th></th>\n",
       "      <th>Unnamed: 0</th>\n",
       "      <th>SKU_NAME</th>\n",
       "      <th>FEED_DATE</th>\n",
       "      <th>VIEWS</th>\n",
       "      <th>UNITS</th>\n",
       "    </tr>\n",
       "  </thead>\n",
       "  <tbody>\n",
       "    <tr>\n",
       "      <th>0</th>\n",
       "      <td>0</td>\n",
       "      <td>B1212:PZ:V</td>\n",
       "      <td>2019-05-01</td>\n",
       "      <td>455.0</td>\n",
       "      <td>16.0</td>\n",
       "    </tr>\n",
       "    <tr>\n",
       "      <th>1</th>\n",
       "      <td>1</td>\n",
       "      <td>B1212:PZ:V</td>\n",
       "      <td>2019-05-02</td>\n",
       "      <td>478.0</td>\n",
       "      <td>12.0</td>\n",
       "    </tr>\n",
       "    <tr>\n",
       "      <th>2</th>\n",
       "      <td>2</td>\n",
       "      <td>B1212:PZ:V</td>\n",
       "      <td>2019-05-03</td>\n",
       "      <td>681.0</td>\n",
       "      <td>42.0</td>\n",
       "    </tr>\n",
       "    <tr>\n",
       "      <th>3</th>\n",
       "      <td>3</td>\n",
       "      <td>B1212:PZ:V</td>\n",
       "      <td>2019-05-04</td>\n",
       "      <td>662.0</td>\n",
       "      <td>70.0</td>\n",
       "    </tr>\n",
       "    <tr>\n",
       "      <th>4</th>\n",
       "      <td>4</td>\n",
       "      <td>B1212:PZ:V</td>\n",
       "      <td>2019-05-05</td>\n",
       "      <td>568.0</td>\n",
       "      <td>33.0</td>\n",
       "    </tr>\n",
       "  </tbody>\n",
       "</table>\n",
       "</div>"
      ],
      "text/plain": [
       "   Unnamed: 0    SKU_NAME   FEED_DATE  VIEWS  UNITS\n",
       "0           0  B1212:PZ:V  2019-05-01  455.0   16.0\n",
       "1           1  B1212:PZ:V  2019-05-02  478.0   12.0\n",
       "2           2  B1212:PZ:V  2019-05-03  681.0   42.0\n",
       "3           3  B1212:PZ:V  2019-05-04  662.0   70.0\n",
       "4           4  B1212:PZ:V  2019-05-05  568.0   33.0"
      ]
     },
     "execution_count": 67,
     "metadata": {},
     "output_type": "execute_result"
    }
   ],
   "source": [
    "glance_view.head()"
   ]
  },
  {
   "cell_type": "markdown",
   "id": "86fce5fa",
   "metadata": {},
   "source": [
    "### 1.Identify the most expensive SKU, on average, over the entire time period.\n",
    "\n",
    "### Explanation:\n",
    "\n",
    "The code calculates the average price per unit for each SKU by dividing the total ordered revenue by the total ordered units, while also handling cases where ordered revenue or units are zero. This calculation provides insights into the average selling price of each SKU, aiding in identifying the most expensive SKU on average over the entire time period.\n",
    "\n",
    "### Assumption:\n",
    "\n",
    "The assumption underlying this process is that average price is calculated based on the revenue and units sold. Additionally, in cases where ordered revenue or units are zero, these records are excluded to ensure accurate calculation of average price per SKU, avoiding potential distortion of results. This filtering ensures that only valid data points are considered for identifying the most expensive SKU.\n"
   ]
  },
  {
   "cell_type": "code",
   "execution_count": 68,
   "id": "6c416243",
   "metadata": {},
   "outputs": [
    {
     "name": "stderr",
     "output_type": "stream",
     "text": [
      "C:\\Users\\DELL\\AppData\\Local\\Temp\\ipykernel_15432\\1710087248.py:3: SettingWithCopyWarning: \n",
      "A value is trying to be set on a copy of a slice from a DataFrame.\n",
      "Try using .loc[row_indexer,col_indexer] = value instead\n",
      "\n",
      "See the caveats in the documentation: https://pandas.pydata.org/pandas-docs/stable/user_guide/indexing.html#returning-a-view-versus-a-copy\n",
      "  non_zero_data['avg_price'] = non_zero_data['ORDERED_REVENUE'] / non_zero_data['ORDERED_UNITS']\n"
     ]
    },
    {
     "data": {
      "text/plain": [
       "'C03CBL[721'"
      ]
     },
     "execution_count": 68,
     "metadata": {},
     "output_type": "execute_result"
    }
   ],
   "source": [
    "# Calculate average price per SKU, handling cases where ordered revenue or units are zero\n",
    "non_zero_data = sales_data[(sales_data['ORDERED_REVENUE'] > 0) & (sales_data['ORDERED_UNITS'] > 0)]\n",
    "non_zero_data['avg_price'] = non_zero_data['ORDERED_REVENUE'] / non_zero_data['ORDERED_UNITS']\n",
    "non_zero_data.head()\n",
    "\n",
    "# Find the SKU with the highest average price\n",
    "most_expensive_sku = non_zero_data.groupby(['SKU_NAME'])['avg_price'].mean().idxmax()\n",
    "\n",
    "most_expensive_sku\n"
   ]
  },
  {
   "cell_type": "markdown",
   "id": "a8a007f2",
   "metadata": {},
   "source": [
    "### 2.What % of SKUs have generated some revenue in this time period?\n",
    " (brownie points - can you identify SKUs that stopped selling completely after July?)\n",
    "### Explanation:\n",
    "\n",
    "To calculate the percentage of SKUs that have generated revenue, we first filter the sales data to include only those records where the ordered revenue is greater than 0. This ensures we're considering SKUs that have actually generated revenue. Then, we count the number of unique SKUs in this filtered dataset. Next, we calculate the total number of unique SKUs in the entire dataset. Finally, we divide the number of SKUs with revenue by the total number of SKUs and multiply by 100 to get the percentage.\n",
    "\n",
    "### Assumption:\n",
    "\n",
    "The assumption made here is that SKUs with non-zero ordered revenue are considered as having generated revenue. This assumption is based on the understanding that a non-zero revenue indicates actual sales activity for a SKU.\n"
   ]
  },
  {
   "cell_type": "code",
   "execution_count": 69,
   "id": "51a74a7c",
   "metadata": {},
   "outputs": [
    {
     "name": "stdout",
     "output_type": "stream",
     "text": [
      "366\n",
      "465\n",
      "78.70967741935485\n",
      "['D12125XVGK' 'C211F62H36' 'C213I5Z84I' 'D211PEL2IE' 'B023PT;UK5'\n",
      " 'B012GU7SOL' 'B012JWTJDC' 'D214HWSKBO' 'B1255YTFGA' 'B125:PNERK'\n",
      " 'B004FMWNKW' 'B205J5RPJQ' 'B213K5FIPU' 'C124PR58CZ' 'D224XBK2GB'\n",
      " 'B203VBOO9C' 'D203VCOPFZ' 'C125OVFDU1' 'B004WQ8HS6' 'D126[CVF9J'\n",
      " 'C024ZE\\\\C:9' 'D126DM[TMI' 'B116DUQLEB' 'B207GW2HRZ' 'B007LUCJZW'\n",
      " 'B029QK5QO4' 'C007RJ6S4B' 'B209T2DTGU' 'D218T1DTFG' 'B10:1TJG86'\n",
      " 'B11:4F6680' 'D20:5I8Z8W' 'D2097WM9JS' 'D22:1F8F7B' 'B00;3H5XG9'\n",
      " 'C209:UNGR3' 'C22;9UNFXQ' 'C12;C;8OPZ' 'C22BEDZ:2S' 'B00DHPE[3Z'\n",
      " 'C11CHPFY5K' 'D02DR5SY3I' 'B10DS5RZI6' 'B10ECKLLFI' 'B12DEKMLLG'\n",
      " 'B20EKD5JF4' 'B01DQ37D1Q' 'B21DCDJM84' 'D21DDDJLQM' 'D00FT8M7O2'\n",
      " 'D12ER8NB5R' 'C12E[9ZJSW' 'B21E\\\\9ZKDH' 'B01F[:YLFY' 'D11I165;6C'\n",
      " 'C02JAMMO55' 'D21J9KN6Y6' 'D20JUJF[UO' 'C12KPWM3IJ' 'C12L1Z21D4'\n",
      " 'B12NULIHEQ' 'D10L[VPYJA' 'B00N67CJYG' 'B22OVTXOIY' 'C20MVUXOO4'\n",
      " 'B21PQ3RNQO' 'B22OZ6\\\\O1[' 'C00NY7ZPH8' 'C21PIJY9C2' 'D02RL461CX'\n",
      " 'B01R0I8KFH' 'C01TSH17OH' 'C11ULFE71M' 'C02UYCQYRF' 'D00VXBPXRY'\n",
      " 'D22TZCQYWC' 'C01UZDOXX8' 'B10V[S5YSO' 'C20VWL6T29' 'B00[09IWHS'\n",
      " 'B01Z6OTS68' 'B121O714Y2' 'C024XPOJL[' 'B013WPQZ2U' 'B115ICA8LF'\n",
      " 'C234IUW6N3' 'C223HTY6OG' 'C115HUW5SO' 'C024P0K:PE' 'C214:PRAT2'\n",
      " 'D0149OPL89' 'D225J4T84K' 'D236H2[UEM' 'B225I326ET' 'D125M8\\\\P:T'\n",
      " 'D236O:ZQ92' 'C035O8\\\\UJC' 'C225M:[XDI' 'B214M:0:PC' 'B216U2FWEK'\n",
      " 'C1152K2BC1' 'D016LM4SES' 'D126YHPGCS' 'B128RO:5YU' 'C019:8WTE8'\n",
      " 'B02:6D686Y' 'C23;OC765C' 'C019SRO\\\\MJ' 'C01BROOL23' 'B21B6UON52'\n",
      " 'B22D5SOO;2' 'C21C6TOOD6' 'B11CDKYM3J' 'C03CBL[721' 'D12EDZB8H8'\n",
      " 'C11CFFFNHX' 'D11DRPRJ84' 'C13EHKRAS4' 'C21EJJQCUE' 'D22FIJSD3D'\n",
      " 'D01I340V6S' 'D03G5YCESZ' 'D11H4WBEUI' 'D03I3XBHVB' 'D01JJT40OY'\n",
      " 'C02KO9VKH6' 'D12LO8TJJ4' 'B21LO8TNNY' 'D21LP:UMOR' 'C02KP:UMZK'\n",
      " 'D01KRONLEY' 'D23KPPNNKF' 'C01JPONNVK' 'B12JQON1JG' 'B13LVANCV4'\n",
      " 'B12MWAOCYI' 'B21LXRODI1' 'C21LXX222C' 'C13MZE6L1D' 'B01L[2OSVM'\n",
      " 'D03O20QQDE' 'D13N2CIPQM' 'D13M1U7NTK' 'B13M0T8ZQM' 'C03M2D4NLZ'\n",
      " 'C13N1DORBG' 'D11O3G::ZR' 'D11O1LTK5L' 'C01O4UWTHH' 'C11M2YN8S4'\n",
      " 'B11M6LR75G' 'B23N8NDT5Q' 'C11NFCONU5' 'C23MG5MYU4' 'D12NT228XO'\n",
      " 'B03P6YDC55' 'B02N9X5ECS' 'B18ZIYLVU8' 'B07XI2QS2Z' 'D26XH5B4OM'\n",
      " 'D28ZI3PXUF' 'D07YK6ZHZK' 'C08YT5NWGO' 'B08YU3BS5R' 'B07XV4H9V4'\n",
      " 'B16Y1745NB' 'D18[3PIF2Y' 'B08Y472N[U' 'C0912U55X9' 'B1826\\\\GXMM'\n",
      " 'B2836[GWYV' 'C091GS383S' 'B172T8N:V9' 'C092S9M8UC' 'B273S9R9[B'\n",
      " 'D271\\\\GMD9Q' 'B094DY1H:5' 'D083FXSVL4' 'D172GLQ83Y' 'C093JQ;9EG'\n",
      " 'B082S99N[C' 'C293R6CM8U' 'C174KT1O8T' 'B094KTD6IW' 'D186LNCIEV'\n",
      " 'C1966HK2JX' 'C18582VVJS' 'D18684;3KZ' 'C076JT7:XY' 'B186S:OSH:'\n",
      " 'B286Q8QSM:' 'C195YKS5F8' 'D077Y:ZWDB' 'D1964NJ7MI' 'B1883ON3Z4'\n",
      " 'C1964PSQ[N' 'B1882T8K9Q' 'D1883SDB64' 'B2764UT3G7' 'C17672PZ9O'\n",
      " 'B1878K26WG' 'C176:M1K\\\\E' 'B178:R5R5L' 'D276DLRIUG' 'C287D46S[I'\n",
      " 'D187XMSWL3' 'D278[PCGZN' 'D17:92M2FW' 'B08:;5YP75' 'B27:;86W4V'\n",
      " 'C09;:9PR57' 'C079F4K8DN' 'D07;D:4VGR' 'B089K3VH9O' 'B079R8STHR'\n",
      " 'C17;Q9:IS5' 'C18D6F2UTW' 'C18D6LCGZ5' 'D09CROKOT7' 'B28CTPKMT8'\n",
      " 'C07CSIE3MV' 'C29E8QOZ7M' 'C17E92HXZK' 'B17FE8ZGLY' 'B07EEFWITR'\n",
      " 'D28EGTXVWH' 'C17EHWN2PD' 'D08DGZDU5V' 'B19FINX3;3' 'B29F3NQU49'\n",
      " 'D27F5MQK4K' 'C28HVD[RUK' 'C29GVG:VJD' 'D09I93YNLP' 'D08I7DSN;X'\n",
      " 'B19J8R7P1C' 'D27HO4VKKH' 'D18K41M8RX' 'D19KHDO;QN' 'D18KR9P99F'\n",
      " 'C27LXIM8JC' 'B28LYL4T8N' 'C08N8KVJDZ' 'D27OBXYZ1D' 'B08MD1RCIY'\n",
      " 'D08NTLH5[D' 'D09MWYH;XL' 'B08OY;\\\\T[I' 'D18PY:ZT93' 'D27N[9[WYS'\n",
      " 'B08Q3EJP86' 'C09P2KELCN' 'C29R4SL67\\\\' 'C08QQJNQR4' 'D28QU2Q7[:'\n",
      " 'C19T:CGV3L' 'D29S5IMRDI']\n"
     ]
    }
   ],
   "source": [
    "# Calculate the percentage of SKUs with revenue\n",
    "\n",
    "sales_data['FEED_DATE'] = pd.to_datetime(sales_data['FEED_DATE'])\n",
    "sales_data['Month'] = sales_data['FEED_DATE'].dt.month\n",
    "\n",
    "sku_with_revenue = sales_data[sales_data['ORDERED_REVENUE'] > 0]['SKU_NAME'].nunique()\n",
    "print(sku_with_revenue)\n",
    "total_skus = sales_data['SKU_NAME'].nunique()\n",
    "print(total_skus)\n",
    "percentage_skus_with_revenue = (sku_with_revenue / total_skus) * 100\n",
    "print(percentage_skus_with_revenue)\n",
    "\n",
    "skus_stopped_selling = sales_data[(sales_data['Month'] > 7) & (sales_data['ORDERED_REVENUE'] == 0)]['SKU_NAME'].unique()\n",
    "print(skus_stopped_selling)\n"
   ]
  },
  {
   "cell_type": "markdown",
   "id": "e50d1475",
   "metadata": {},
   "source": [
    "### 3. Somewhere in this timeframe, there was a Sale Event. Identify the dates.\n",
    "### Explanation:\n",
    "\n",
    "In this code ,we are identifying the date(s) with the maximum number of views in the glance views data. \n",
    "\n",
    "1. We group the glance views data by the 'FEED_DATE' column using `.groupby('FEED_DATE')`, which groups the data by each unique date.\n",
    "2. Then, we sum up the total number of views for each date using `.sum()` on the 'VIEWS' column. This gives us the total views for each date.\n",
    "3. Next, we use `.idxmax()` to find the index label (i.e., the date) associated with the maximum total views.\n",
    "\n",
    "### Assumption:\n",
    "\n",
    "The assumption underlying this process is that the date(s) with the highest number of views in the glance views data correspond to a sale event. This assumption is grounded in the understanding that a significant increase in views likely indicates heightened customer interest, which may be driven by promotional activities or special events such as sales.\n"
   ]
  },
  {
   "cell_type": "code",
   "execution_count": 27,
   "id": "843f7fba",
   "metadata": {},
   "outputs": [
    {
     "data": {
      "text/plain": [
       "'2019-07-15'"
      ]
     },
     "execution_count": 27,
     "metadata": {},
     "output_type": "execute_result"
    }
   ],
   "source": [
    "# Identify the date(s) with maximum views\n",
    "sale_event_dates = glance_view.groupby('FEED_DATE')['VIEWS'].sum().idxmax()\n",
    "sale_event_dates\n"
   ]
  },
  {
   "cell_type": "markdown",
   "id": "4212d0f6",
   "metadata": {},
   "source": [
    "### 4. (Dependent on 3) Does having a sale event cannibalize sales in the immediate aftermath? Highlighting a few examples would suffice\n",
    "(brownie points - determine a statistical metric to prove/disprove this).\n",
    "### Explanation:\n",
    "\n",
    "In this code, we aim to identify the dates of a sale event within the given timeframe and analyze whether the sale event cannibalized sales in the immediate aftermath.\n",
    "\n",
    "1. To identify the dates of the sale event, we assume that the sale event lasted for multiple days. We compare sales before, during, and after the event to determine its impact.\n",
    "\n",
    "2. We calculate total sales before, during, and after the sale event by summing the ordered revenue for the respective periods.\n",
    "\n",
    "3. Then, we calculate the cannibalization rate, which measures the proportion of sales during the sale event compared to the combined sales before and after the event. This helps us understand if the sale event had a cannibalizing effect on sales immediately before and after its occurrence.\n",
    "\n",
    "### Assumption:\n",
    "\n",
    "Cannibalization rate is calculated based on the change in sales volume before, during, and after the sale event.\n"
   ]
  },
  {
   "cell_type": "code",
   "execution_count": 36,
   "id": "ad732ba0",
   "metadata": {},
   "outputs": [
    {
     "data": {
      "text/plain": [
       "6.028855988228239"
      ]
     },
     "execution_count": 36,
     "metadata": {},
     "output_type": "execute_result"
    }
   ],
   "source": [
    "# Calculate total sales before, during, and after the sale event\n",
    "before_sales = sales_data[sales_data['FEED_DATE'] < sale_event_dates]['ORDERED_REVENUE'].sum()\n",
    "during_sales = sales_data[sales_data['FEED_DATE'] == sale_event_dates]['ORDERED_REVENUE'].sum()\n",
    "after_sales = sales_data[sales_data['FEED_DATE'] > sale_event_dates]['ORDERED_REVENUE'].sum()\n",
    "\n",
    "# Calculate cannibalization rate\n",
    "cannibalization_rate = (during_sales / (before_sales + after_sales)) * 100\n",
    "cannibalization_rate\n"
   ]
  },
  {
   "cell_type": "markdown",
   "id": "3ceb7b21",
   "metadata": {},
   "source": [
    "### 5 . In each category, find the subcategory that has grown slowest relative to the category it is present in. If you were handling the entire portfolio, which of these subcategories would you be most concerned with?\n",
    "\n",
    "### Explanation:\n",
    "\n",
    "In this code, we aim to calculate the growth rate for each subcategory relative to its category. We then identify the subcategory with the slowest growth rate relative to its category.\n",
    "\n",
    "1. We calculate the growth rate for each subcategory by using the `pct_change()` function on the 'Ordered_Revenue' column within each group defined by the combination of 'Category' and 'SubCategory'.\n",
    "\n",
    "2. Next, we find the mean growth rate for each subcategory within its category by grouping the DataFrame by 'Category' and 'SubCategory' and calculating the mean of the growth rates.\n",
    "\n",
    "3. Finally, we identify the subcategory with the slowest mean growth rate relative to its category using the `idxmin()` function, which returns the index corresponding to the minimum mean growth rate.\n",
    "\n",
    "### Assumption:\n",
    "\n",
    "- Growth rate is calculated based on the percentage change in ordered revenue over time.\n",
    "- Slowest growth rate relative to the category indicates subcategories within each category that are experiencing slower growth compared to others within the same category.\n",
    "- Concern regarding slow growth is based on the assumption that subcategories with slow growth rates may be facing challenges or underperforming compared to their counterparts within the same category. Addressing these challenges may be important to ensure overall category growth and portfolio performance.\n"
   ]
  },
  {
   "cell_type": "code",
   "execution_count": 40,
   "id": "0bfbeff2",
   "metadata": {},
   "outputs": [
    {
     "data": {
      "text/plain": [
       "('0100 Wireless Phones', '0191 Connected Wearables')"
      ]
     },
     "execution_count": 40,
     "metadata": {},
     "output_type": "execute_result"
    }
   ],
   "source": [
    "# Calculate growth rate for each subcategory\n",
    "sales_data['growth_rate'] = sales_data.groupby(['CATEGORY', 'SUB_CATEGORY'])['ORDERED_REVENUE'].pct_change()\n",
    "sales_data\n",
    "# Find the subcategory with the slowest growth rate relative to its category\n",
    "slowest_growth_subcategory = sales_data.groupby(['CATEGORY', 'SUB_CATEGORY'])['growth_rate'].mean().idxmin()\n",
    "slowest_growth_subcategory\n"
   ]
  },
  {
   "cell_type": "markdown",
   "id": "9f433120",
   "metadata": {},
   "source": [
    "### 6. Highlight any anomalies/mismatches in the data that you see, if any. (In terms of data quality issues)\n",
    "### Explanation:\n",
    "The provided Python code is designed to identify potential anomalies or mismatches in the data with respect to missing values and the distribution of ordered revenue.\n",
    "\n",
    "1. **Checking for Missing Values:** The code calculates the number of missing values in each column of the 'Sales Data' table. This helps in identifying any incomplete or inconsistent data entries that may impact the analysis.\n",
    "\n",
    "2. **Boxplot of Ordered Revenue:** The code generates a boxplot to visualize the distribution of ordered revenue. Boxplots are useful for identifying outliers or extreme values in the data distribution, which could indicate potential anomalies or errors in the data.\n",
    "\n",
    "### Assumptions:\n",
    "1. **Missing Values:** The assumption is that missing values, if present, may indicate incomplete or erroneous data entries. It's important to identify and handle missing values appropriately to ensure the accuracy and reliability of the analysis.\n",
    "\n",
    "2. **Boxplot Analysis:** The assumption is that the distribution of ordered revenue should be relatively consistent, and extreme values identified in the boxplot may represent anomalies or errors in the data. However, it's essential to further investigate these outliers to determine whether they are genuine data points or require further scrutiny and potential correction.\n"
   ]
  },
  {
   "cell_type": "code",
   "execution_count": 64,
   "id": "0ca55881",
   "metadata": {},
   "outputs": [
    {
     "data": {
      "image/png": "[encoded data removed]",
      "text/plain": [
       "<Figure size 800x600 with 1 Axes>"
      ]
     },
     "metadata": {},
     "output_type": "display_data"
    }
   ],
   "source": [
    "\n",
    "# Boxplot of Ordered_Revenue\n",
    "plt.figure(figsize=(8, 6))\n",
    "sns.boxplot(x=sales_data['ORDERED_REVENUE'])\n",
    "plt.title('Boxplot of Ordered Revenue')\n",
    "plt.xlabel('Ordered Revenue')\n",
    "plt.show()\n"
   ]
  },
  {
   "cell_type": "code",
   "execution_count": 63,
   "id": "ae2eb85a",
   "metadata": {},
   "outputs": [
    {
     "name": "stdout",
     "output_type": "stream",
     "text": [
      "Missing Values:\n",
      "Unnamed: 0             0\n",
      "SKU_NAME               0\n",
      "FEED_DATE              0\n",
      "CATEGORY               0\n",
      "SUB_CATEGORY           0\n",
      "ORDERED_REVENUE        0\n",
      "ORDERED_UNITS          0\n",
      "REP_OOS              689\n",
      "avg_price          12918\n",
      "Month                  0\n",
      "growth_rate        10899\n",
      "dtype: int64\n"
     ]
    }
   ],
   "source": [
    "# Check for missing values\n",
    "missing_values = sales_data.isnull().sum()\n",
    "print(\"Missing Values:\")\n",
    "print(missing_values)\n"
   ]
  },
  {
   "cell_type": "code",
   "execution_count": 60,
   "id": "c31cfedf",
   "metadata": {},
   "outputs": [
    {
     "data": {
      "image/png": "[encoded data removed]",
      "text/plain": [
       "<Figure size 800x600 with 1 Axes>"
      ]
     },
     "metadata": {},
     "output_type": "display_data"
    }
   ],
   "source": [
    "# Visualize missing values using a heatmap\n",
    "plt.figure(figsize=(8, 6))\n",
    "sns.heatmap(sales_data.isnull(), cmap='viridis', cbar=False)\n",
    "plt.title('Missing Values Heatmap')\n",
    "plt.show()\n"
   ]
  },
  {
   "cell_type": "markdown",
   "id": "5279ea30",
   "metadata": {},
   "source": [
    "### 7. For SKU Name C120[H:8NV, discuss whether Unit Conversion (Units/Views) is affected by Average Selling Price.\n",
    "### Explanation:\n",
    "The Python code aims to investigate whether the unit conversion (Units/Views) is affected by the average selling price for SKU C120[H:8NV]. The analysis involves visualizing the relationship between unit conversion and average selling price, calculating the correlation coefficient between these variables, and generating a heatmap to visualize the correlation matrix.\n",
    "\n",
    "1. **Data Preparation:** The code first ensures that the 'FEED_DATE' column in both the 'Sales Data' and 'Glance View' tables is converted to datetime format and then merges the two tables based on 'SKU_NAME' and 'FEED_DATE'.\n",
    "\n",
    "2. **Visualizing the Relationship:** After filtering the merged data for SKU C120[H:8NV], the code calculates the unit conversion ratio (Units/Views) and visualizes the relationship between unit conversion and average selling price using a scatterplot. This visualization helps assess whether there's any discernible pattern or trend between the two variables.\n",
    "\n",
    "3. **Calculating Correlation Coefficient:** The code calculates the correlation coefficient between unit conversion (Units/Views) and average selling price (avg_price) to quantify the strength and direction of their linear relationship. This coefficient provides insights into the degree of association between the two variables.\n",
    "\n",
    "4. **Generating Correlation Heatmap:** Lastly, the code computes the correlation matrix between 'avg_price' and 'Units/Views' and creates a heatmap to visualize the correlation coefficients. This heatmap helps identify any significant correlations between variables, facilitating a deeper understanding of their relationships.\n",
    "\n",
    "### Assumption:\n",
    "The assumption underlying this analysis is that a significant correlation or relationship between unit conversion and average selling price may indicate how changes in pricing affect customer behavior, particularly their propensity to convert views into actual units sold. A positive correlation could suggest that higher average selling prices lead to higher unit conversions, while a negative correlation might indicate the opposite. Additionally, the assumption is made that the data is representative and accurately reflects the relationship between these variables for SKU C120[H:8NV].\n"
   ]
  },
  {
   "cell_type": "code",
   "execution_count": 54,
   "id": "303fb606",
   "metadata": {},
   "outputs": [],
   "source": [
    "sales_data['FEED_DATE'] = pd.to_datetime(sales_data['FEED_DATE'])\n",
    "glance_view['FEED_DATE'] = pd.to_datetime(sales_data['FEED_DATE'])\n",
    "merged_data = pd.merge(sales_data, glance_view[['SKU_NAME', 'FEED_DATE', 'VIEWS', 'UNITS']], on=['SKU_NAME', 'FEED_DATE'], how='inner')\n"
   ]
  },
  {
   "cell_type": "code",
   "execution_count": 55,
   "id": "0283f648",
   "metadata": {},
   "outputs": [
    {
     "data": {
      "text/html": [
       "<div>\n",
       "<style scoped>\n",
       "    .dataframe tbody tr th:only-of-type {\n",
       "        vertical-align: middle;\n",
       "    }\n",
       "\n",
       "    .dataframe tbody tr th {\n",
       "        vertical-align: top;\n",
       "    }\n",
       "\n",
       "    .dataframe thead th {\n",
       "        text-align: right;\n",
       "    }\n",
       "</style>\n",
       "<table border=\"1\" class=\"dataframe\">\n",
       "  <thead>\n",
       "    <tr style=\"text-align: right;\">\n",
       "      <th></th>\n",
       "      <th>Unnamed: 0</th>\n",
       "      <th>SKU_NAME</th>\n",
       "      <th>FEED_DATE</th>\n",
       "      <th>CATEGORY</th>\n",
       "      <th>SUB_CATEGORY</th>\n",
       "      <th>ORDERED_REVENUE</th>\n",
       "      <th>ORDERED_UNITS</th>\n",
       "      <th>REP_OOS</th>\n",
       "      <th>avg_price</th>\n",
       "      <th>Month</th>\n",
       "      <th>growth_rate</th>\n",
       "      <th>VIEWS</th>\n",
       "      <th>UNITS</th>\n",
       "    </tr>\n",
       "  </thead>\n",
       "  <tbody>\n",
       "    <tr>\n",
       "      <th>0</th>\n",
       "      <td>0</td>\n",
       "      <td>B12020KBUI</td>\n",
       "      <td>2019-05-18</td>\n",
       "      <td>1000 Inputs</td>\n",
       "      <td>1002 Mice</td>\n",
       "      <td>0.00</td>\n",
       "      <td>0.0</td>\n",
       "      <td>0.0</td>\n",
       "      <td>NaN</td>\n",
       "      <td>5</td>\n",
       "      <td>NaN</td>\n",
       "      <td>8.0</td>\n",
       "      <td>0.0</td>\n",
       "    </tr>\n",
       "    <tr>\n",
       "      <th>1</th>\n",
       "      <td>1</td>\n",
       "      <td>B12020KBUI</td>\n",
       "      <td>2019-05-19</td>\n",
       "      <td>1000 Inputs</td>\n",
       "      <td>1002 Mice</td>\n",
       "      <td>0.00</td>\n",
       "      <td>0.0</td>\n",
       "      <td>0.0</td>\n",
       "      <td>NaN</td>\n",
       "      <td>5</td>\n",
       "      <td>NaN</td>\n",
       "      <td>5.0</td>\n",
       "      <td>0.0</td>\n",
       "    </tr>\n",
       "    <tr>\n",
       "      <th>2</th>\n",
       "      <td>2</td>\n",
       "      <td>B12020KBUI</td>\n",
       "      <td>2019-05-22</td>\n",
       "      <td>1000 Inputs</td>\n",
       "      <td>1002 Mice</td>\n",
       "      <td>0.00</td>\n",
       "      <td>0.0</td>\n",
       "      <td>0.0</td>\n",
       "      <td>NaN</td>\n",
       "      <td>5</td>\n",
       "      <td>NaN</td>\n",
       "      <td>8.0</td>\n",
       "      <td>0.0</td>\n",
       "    </tr>\n",
       "    <tr>\n",
       "      <th>3</th>\n",
       "      <td>3</td>\n",
       "      <td>B12020KBUI</td>\n",
       "      <td>2019-05-23</td>\n",
       "      <td>1000 Inputs</td>\n",
       "      <td>1002 Mice</td>\n",
       "      <td>0.00</td>\n",
       "      <td>0.0</td>\n",
       "      <td>0.0</td>\n",
       "      <td>NaN</td>\n",
       "      <td>5</td>\n",
       "      <td>NaN</td>\n",
       "      <td>4.0</td>\n",
       "      <td>0.0</td>\n",
       "    </tr>\n",
       "    <tr>\n",
       "      <th>4</th>\n",
       "      <td>4</td>\n",
       "      <td>B12020KBUI</td>\n",
       "      <td>2019-05-27</td>\n",
       "      <td>1000 Inputs</td>\n",
       "      <td>1002 Mice</td>\n",
       "      <td>0.00</td>\n",
       "      <td>0.0</td>\n",
       "      <td>0.0</td>\n",
       "      <td>NaN</td>\n",
       "      <td>5</td>\n",
       "      <td>NaN</td>\n",
       "      <td>9.0</td>\n",
       "      <td>0.0</td>\n",
       "    </tr>\n",
       "    <tr>\n",
       "      <th>...</th>\n",
       "      <td>...</td>\n",
       "      <td>...</td>\n",
       "      <td>...</td>\n",
       "      <td>...</td>\n",
       "      <td>...</td>\n",
       "      <td>...</td>\n",
       "      <td>...</td>\n",
       "      <td>...</td>\n",
       "      <td>...</td>\n",
       "      <td>...</td>\n",
       "      <td>...</td>\n",
       "      <td>...</td>\n",
       "      <td>...</td>\n",
       "    </tr>\n",
       "    <tr>\n",
       "      <th>40421</th>\n",
       "      <td>41110</td>\n",
       "      <td>D29S5IMRDI</td>\n",
       "      <td>2019-08-27</td>\n",
       "      <td>1000 Inputs</td>\n",
       "      <td>1007 Other Input Devices</td>\n",
       "      <td>129.99</td>\n",
       "      <td>1.0</td>\n",
       "      <td>0.0</td>\n",
       "      <td>129.99</td>\n",
       "      <td>8</td>\n",
       "      <td>inf</td>\n",
       "      <td>104.0</td>\n",
       "      <td>1.0</td>\n",
       "    </tr>\n",
       "    <tr>\n",
       "      <th>40422</th>\n",
       "      <td>41111</td>\n",
       "      <td>D29S5IMRDI</td>\n",
       "      <td>2019-08-28</td>\n",
       "      <td>1000 Inputs</td>\n",
       "      <td>1007 Other Input Devices</td>\n",
       "      <td>259.98</td>\n",
       "      <td>2.0</td>\n",
       "      <td>0.0</td>\n",
       "      <td>129.99</td>\n",
       "      <td>8</td>\n",
       "      <td>1.0</td>\n",
       "      <td>108.0</td>\n",
       "      <td>2.0</td>\n",
       "    </tr>\n",
       "    <tr>\n",
       "      <th>40423</th>\n",
       "      <td>41112</td>\n",
       "      <td>D29S5IMRDI</td>\n",
       "      <td>2019-08-29</td>\n",
       "      <td>1000 Inputs</td>\n",
       "      <td>1007 Other Input Devices</td>\n",
       "      <td>259.98</td>\n",
       "      <td>2.0</td>\n",
       "      <td>0.0</td>\n",
       "      <td>129.99</td>\n",
       "      <td>8</td>\n",
       "      <td>0.0</td>\n",
       "      <td>86.0</td>\n",
       "      <td>2.0</td>\n",
       "    </tr>\n",
       "    <tr>\n",
       "      <th>40424</th>\n",
       "      <td>41113</td>\n",
       "      <td>D29S5IMRDI</td>\n",
       "      <td>2019-08-30</td>\n",
       "      <td>1000 Inputs</td>\n",
       "      <td>1007 Other Input Devices</td>\n",
       "      <td>259.98</td>\n",
       "      <td>2.0</td>\n",
       "      <td>0.0</td>\n",
       "      <td>129.99</td>\n",
       "      <td>8</td>\n",
       "      <td>0.0</td>\n",
       "      <td>89.0</td>\n",
       "      <td>2.0</td>\n",
       "    </tr>\n",
       "    <tr>\n",
       "      <th>40425</th>\n",
       "      <td>41114</td>\n",
       "      <td>D29S5IMRDI</td>\n",
       "      <td>2019-08-31</td>\n",
       "      <td>1000 Inputs</td>\n",
       "      <td>1007 Other Input Devices</td>\n",
       "      <td>0.00</td>\n",
       "      <td>0.0</td>\n",
       "      <td>0.0</td>\n",
       "      <td>NaN</td>\n",
       "      <td>8</td>\n",
       "      <td>-1.0</td>\n",
       "      <td>59.0</td>\n",
       "      <td>0.0</td>\n",
       "    </tr>\n",
       "  </tbody>\n",
       "</table>\n",
       "<p>40426 rows × 13 columns</p>\n",
       "</div>"
      ],
      "text/plain": [
       "       Unnamed: 0    SKU_NAME  FEED_DATE     CATEGORY  \\\n",
       "0               0  B12020KBUI 2019-05-18  1000 Inputs   \n",
       "1               1  B12020KBUI 2019-05-19  1000 Inputs   \n",
       "2               2  B12020KBUI 2019-05-22  1000 Inputs   \n",
       "3               3  B12020KBUI 2019-05-23  1000 Inputs   \n",
       "4               4  B12020KBUI 2019-05-27  1000 Inputs   \n",
       "...           ...         ...        ...          ...   \n",
       "40421       41110  D29S5IMRDI 2019-08-27  1000 Inputs   \n",
       "40422       41111  D29S5IMRDI 2019-08-28  1000 Inputs   \n",
       "40423       41112  D29S5IMRDI 2019-08-29  1000 Inputs   \n",
       "40424       41113  D29S5IMRDI 2019-08-30  1000 Inputs   \n",
       "40425       41114  D29S5IMRDI 2019-08-31  1000 Inputs   \n",
       "\n",
       "                   SUB_CATEGORY  ORDERED_REVENUE  ORDERED_UNITS  REP_OOS  \\\n",
       "0                     1002 Mice             0.00            0.0      0.0   \n",
       "1                     1002 Mice             0.00            0.0      0.0   \n",
       "2                     1002 Mice             0.00            0.0      0.0   \n",
       "3                     1002 Mice             0.00            0.0      0.0   \n",
       "4                     1002 Mice             0.00            0.0      0.0   \n",
       "...                         ...              ...            ...      ...   \n",
       "40421  1007 Other Input Devices           129.99            1.0      0.0   \n",
       "40422  1007 Other Input Devices           259.98            2.0      0.0   \n",
       "40423  1007 Other Input Devices           259.98            2.0      0.0   \n",
       "40424  1007 Other Input Devices           259.98            2.0      0.0   \n",
       "40425  1007 Other Input Devices             0.00            0.0      0.0   \n",
       "\n",
       "       avg_price  Month  growth_rate  VIEWS  UNITS  \n",
       "0            NaN      5          NaN    8.0    0.0  \n",
       "1            NaN      5          NaN    5.0    0.0  \n",
       "2            NaN      5          NaN    8.0    0.0  \n",
       "3            NaN      5          NaN    4.0    0.0  \n",
       "4            NaN      5          NaN    9.0    0.0  \n",
       "...          ...    ...          ...    ...    ...  \n",
       "40421     129.99      8          inf  104.0    1.0  \n",
       "40422     129.99      8          1.0  108.0    2.0  \n",
       "40423     129.99      8          0.0   86.0    2.0  \n",
       "40424     129.99      8          0.0   89.0    2.0  \n",
       "40425        NaN      8         -1.0   59.0    0.0  \n",
       "\n",
       "[40426 rows x 13 columns]"
      ]
     },
     "execution_count": 55,
     "metadata": {},
     "output_type": "execute_result"
    }
   ],
   "source": [
    "merged_data"
   ]
  },
  {
   "cell_type": "code",
   "execution_count": 57,
   "id": "36f9266c",
   "metadata": {},
   "outputs": [
    {
     "name": "stderr",
     "output_type": "stream",
     "text": [
      "C:\\Users\\DELL\\AppData\\Local\\Temp\\ipykernel_15432\\3277713621.py:8: SettingWithCopyWarning: \n",
      "A value is trying to be set on a copy of a slice from a DataFrame.\n",
      "Try using .loc[row_indexer,col_indexer] = value instead\n",
      "\n",
      "See the caveats in the documentation: https://pandas.pydata.org/pandas-docs/stable/user_guide/indexing.html#returning-a-view-versus-a-copy\n",
      "  merged_data['Units/Views']=merged_data['UNITS']/merged_data['VIEWS']\n"
     ]
    },
    {
     "data": {
      "text/plain": [
       "<AxesSubplot:xlabel='avg_price', ylabel='Units/Views'>"
      ]
     },
     "execution_count": 57,
     "metadata": {},
     "output_type": "execute_result"
    },
    {
     "data": {
      "image/png": "[encoded data removed]",
      "text/plain": [
       "<Figure size 640x480 with 1 Axes>"
      ]
     },
     "metadata": {},
     "output_type": "display_data"
    }
   ],
   "source": [
    "# Visualize the relationship between Unit Conversion and Average Selling Price\n",
    "\n",
    "import seaborn as sns\n",
    "\n",
    "# Filter data for SKU C120[H:8NV\n",
    "merged_data = merged_data[merged_data['SKU_NAME'] == 'C120[H:8NV']\n",
    "merged_data['Units/Views']=merged_data['UNITS']/merged_data['VIEWS']\n",
    "# # Visualize the relationship between Unit Conversion and Average Selling Price\n",
    "sns.scatterplot(x='avg_price', y='Units/Views', data=merged_data)\n",
    "\n"
   ]
  },
  {
   "cell_type": "code",
   "execution_count": 58,
   "id": "dd37e63c",
   "metadata": {},
   "outputs": [
    {
     "name": "stdout",
     "output_type": "stream",
     "text": [
      "Correlation Coefficient: -0.029776602675128678\n"
     ]
    }
   ],
   "source": [
    "# Calculate correlation coefficient between Unit Conversion and Average Selling Price\n",
    "correlation_coefficient = merged_data['avg_price'].corr(merged_data['Units/Views'])\n",
    "print(\"Correlation Coefficient:\", correlation_coefficient)\n"
   ]
  },
  {
   "cell_type": "code",
   "execution_count": 59,
   "id": "81ab6242",
   "metadata": {},
   "outputs": [
    {
     "data": {
      "image/png": "[encoded data removed]",
      "text/plain": [
       "<Figure size 800x600 with 2 Axes>"
      ]
     },
     "metadata": {},
     "output_type": "display_data"
    }
   ],
   "source": [
    "import seaborn as sns\n",
    "import matplotlib.pyplot as plt\n",
    "\n",
    "# Compute the correlation matrix\n",
    "correlation_matrix = merged_data[['avg_price', 'Units/Views']].corr()\n",
    "\n",
    "# Plot the heatmap\n",
    "plt.figure(figsize=(8, 6))\n",
    "sns.heatmap(correlation_matrix, annot=True, cmap='coolwarm', fmt=\".2f\")\n",
    "plt.title('Correlation Heatmap')\n",
    "plt.show()\n"
   ]
  },
  {
   "cell_type": "code",
   "execution_count": null,
   "id": "836ec85f",
   "metadata": {},
   "outputs": [],
   "source": []
  }
 ],
 "metadata": {
  "kernelspec": {
   "display_name": "Python 3 (ipykernel)",
   "language": "python",
   "name": "python3"
  },
  "language_info": {
   "codemirror_mode": {
    "name": "ipython",
    "version": 3
   },
   "file_extension": ".py",
   "mimetype": "text/x-python",
   "name": "python",
   "nbconvert_exporter": "python",
   "pygments_lexer": "ipython3",
   "version": "3.9.13"
  }
 },
 "nbformat": 4,
 "nbformat_minor": 5
}
